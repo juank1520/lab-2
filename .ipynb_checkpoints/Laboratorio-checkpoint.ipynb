{
 "cells": [
  {
   "cell_type": "markdown",
   "metadata": {},
   "source": [
    "# Git\n",
    "Juan Carlos García Sandoval\n",
    "\n",
    "12002028\n",
    "\n",
    "https://github.com/juank1520"
   ]
  },
  {
   "cell_type": "markdown",
   "metadata": {},
   "source": [
    "Git es un sistema de control de versiones, los sistemas de control de versiones (VSC) son herramientas que nos permiten rastrear cambios en archivos y mantener un registro histórico de qué fue lo que se hizo.\n",
    "\n",
    "Cada cambio del archivo se almacena en una especie de fotografía instantánea y cada una de estas instantáneas encapsula el estado actual del cada uno de los archivos del repositorio.\n",
    "\n",
    "Estos VSC almacenan metadatos de cada una de estas instantáneas para saber quién la creó, el objetivo de los cambios en esta instantánea, la hora, la fecha, etc.\n"
   ]
  },
  {
   "cell_type": "markdown",
   "metadata": {},
   "source": [
    "## ¿Por qué es útil un VSC?"
   ]
  },
  {
   "cell_type": "markdown",
   "metadata": {},
   "source": [
    "Si trabajamos solos, sin un equipo, nos sirve para poder regresar en el tiempo, saber qué hicimos, y si algo sale mal en el proyecto podemos regresar a la última versión funcional y saber los cambios que hicimos.\n",
    "\n",
    "Si trabajamos en quipo, podemos ver qué están haciendo los demás, consolidar en una solo versión el trabajo de varias personas y así poder trabajar simultáneamente incluso en el mismo archivo\n"
   ]
  },
  {
   "cell_type": "markdown",
   "metadata": {},
   "source": [
    "## Modelado de datos de GIT"
   ]
  },
  {
   "cell_type": "markdown",
   "metadata": {},
   "source": [
    "### Snapshots"
   ]
  },
  {
   "cell_type": "markdown",
   "metadata": {},
   "source": [
    "GIT modela los cambios de los archivos dentro de una carpeta oculta en la raíz del repositorio llamada **.git**, en git los **archivos** los llama *blob* y los **directorios** los llama *árboles* una snapshot son los cambios rastreados de la carpeta raíz, GIT llama a los **snapshot** *commits* y cada commit está referenciado por un hash para poder ser ubicado en la base de datos"
   ]
  },
  {
   "cell_type": "markdown",
   "metadata": {},
   "source": [
    "![Img AltText](https://git-scm.com/book/en/v2/images/data-model-1.png)"
   ]
  },
  {
   "cell_type": "markdown",
   "metadata": {},
   "source": [
    "## Modelado de datos y su relación con los snapshots"
   ]
  },
  {
   "cell_type": "markdown",
   "metadata": {},
   "source": [
    "Podemos tener una historia lineal, en donde pasan secuencialmente los cambios y commit padre tiene un único commit hijo, pero git nos permite trabajar con historias acíclicas, esto nos permite que un commit puede tener varios commits padres."
   ]
  },
  {
   "cell_type": "markdown",
   "metadata": {},
   "source": [
    "![Img AltText](https://www.nobledesktop.com/image/gitresources/git-branches-merge.png)"
   ]
  },
  {
   "cell_type": "markdown",
   "metadata": {},
   "source": [
    "En el diagrama anterior cada circulo representa un commit y después del primer commit, se ramifican en una rama **branch** adicional y en esta rama adicional podríamos trabajar en otras características de proyecto, o alguien más podría estar trabajando en sus propios cambios. Luego de realizar los cambios del proyecto las ramas se pueden fusionar **merge** e integrarse en una rama que sería la consolidación de los dos trabajos.\n",
    "\n",
    "En git los commits son inmutables, esto significa que uno media vez realizó el commit este no se puede cambiar y para realizar un cambio al proyecto tendríamos que realizar un nuevo commit\n"
   ]
  },
  {
   "cell_type": "markdown",
   "metadata": {},
   "source": [
    "## Área de Staging"
   ]
  },
  {
   "cell_type": "markdown",
   "metadata": {},
   "source": [
    "Esta es un área previa al commit, en dónde se puede especificar qué archivos serán enviados al commit, por ejemplo, si estamos trabajando en un archivo y todo funciona bien, luego nos vamos a trabajar a otro archivo, pero en este accidentalmente generamos errores, podemos ingresar al área de staging los archivos que si funcionan y dejar a fuera los que contienen errores y así el commit únicamente conentra el rastreo de los cambios de los archivos que si funcionan\n"
   ]
  },
  {
   "cell_type": "markdown",
   "metadata": {},
   "source": [
    "![Img AltText](https://res.cloudinary.com/practicaldev/image/fetch/s--D7nJOADN--/c_imagga_scale,f_auto,fl_progressive,h_900,q_auto,w_1600/https://cl.ly/569e7f0bbfaf/download/Image%25202018-08-29%2520at%25208.26.35%2520PM.png)"
   ]
  },
  {
   "cell_type": "markdown",
   "metadata": {},
   "source": [
    "## Comandos"
   ]
  },
  {
   "cell_type": "markdown",
   "metadata": {},
   "source": [
    "* git help <command>: Nos abre la página de git para obtener más información de ese comando\n",
    "* git init: Crea un nuevo repositorio de git\n",
    "* git status: Nos dice que si se ha hecho alguna modificación o si se a creado o eliminado algún archivo o directorio, y qué archivo o directorio fue \n",
    "* git add <filename>: Agrega un archive en específico al área de staging\n",
    "* git add .: Agrega todos los archivos modificados, creados o eliminados al área de staging\n",
    "* git commit: crea un nuevo commit, hay que agregarle un comentario con la bandera -m “comentario”\n",
    "* git log: Muestra la historia de los commits\n",
    "* git log --all --graph --decorate:  Muestra de una manera gráfica, siempre en la línea de comnados, la historia de los commits y sus diferentes ramas\n",
    "* git diff <filename>: muestra los cambios en relación a lo que se tiene en el área de staging\n",
    "* git diff <revision> <filename>:  Muestra la diferencia de un archivo con un commit\n",
    "* git checkout <revision>: Cambia en dónde apunta el **HEAD** y la rama actual\n",
    "* git branch: Muestra las ramas locales\n",
    "* git branch <name>: creates a branch\n",
    "* git checkout -b <name>:  Crea una nueva rama y se mueve para esa rama\n",
    "* git merge <revision>: fusiona la rama <revision> con la rama actual"
   ]
  },
  {
   "cell_type": "markdown",
   "metadata": {},
   "source": [
    "## Ejemplo"
   ]
  },
  {
   "cell_type": "markdown",
   "metadata": {},
   "source": [
    "En este ejemplo clonaremos un repositorio remoto, realizaremos unos cambios en una nueva rama y enviaremos la nueva rama al repositorio remoto"
   ]
  },
  {
   "cell_type": "markdown",
   "metadata": {},
   "source": [
    "git clone https://github.com/juank1520/lab-2.git\n",
    "\n",
    "git branch hotfix\n",
    "\n",
    "**Realizamos los cambios**\n",
    "\n",
    "git add .\n",
    "\n",
    "git commit -m \"Fix the ticket #e34a5\"\n",
    "\n",
    "git pull origin master\n",
    "\n",
    "git push -u origin hotfix\n"
   ]
  },
  {
   "cell_type": "code",
   "execution_count": null,
   "metadata": {},
   "outputs": [],
   "source": []
  }
 ],
 "metadata": {
  "kernelspec": {
   "display_name": "Python 3",
   "language": "python",
   "name": "python3"
  },
  "language_info": {
   "codemirror_mode": {
    "name": "ipython",
    "version": 3
   },
   "file_extension": ".py",
   "mimetype": "text/x-python",
   "name": "python",
   "nbconvert_exporter": "python",
   "pygments_lexer": "ipython3",
   "version": "3.8.5"
  }
 },
 "nbformat": 4,
 "nbformat_minor": 4
}
